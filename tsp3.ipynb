{
 "cells": [
  {
   "cell_type": "markdown",
   "metadata": {},
   "source": [
    "re attempt - ass_1_tsp.py  \n",
    "added modification  \n",
    "USE THIS"
   ]
  },
  {
   "cell_type": "code",
   "execution_count": 1,
   "metadata": {},
   "outputs": [],
   "source": [
    "import numpy as np\n",
    "import copy"
   ]
  },
  {
   "cell_type": "code",
   "execution_count": 2,
   "metadata": {},
   "outputs": [],
   "source": [
    "inf = float('inf')"
   ]
  },
  {
   "cell_type": "code",
   "execution_count": 23,
   "metadata": {},
   "outputs": [],
   "source": [
    "class TSP:\n",
    "\n",
    "    def __init__(self, matrix = None, source:int = 0) -> None:\n",
    "        self.matrix = [[0]*4]*4 if matrix is None else matrix\n",
    "        self.source:int = source\n",
    "        self.n:int = len(self.matrix)\n",
    "\n",
    "\n",
    "\n",
    "    def input(self):\n",
    "        del self.matrix[0:4]\n",
    "\n",
    "        self.n = int(input(\"Enter no of cities: \"))\n",
    "        for i in range(self.n):\n",
    "            self.matrix.append([\n",
    "                inf if i==j\n",
    "                else int(input(f\"Enter distance between city {i+1} and city {j+1}\"))\n",
    "                for j in range(self.n)\n",
    "            ])\n",
    "        self.source = int(input(\"Enter source city: \")) % self.n\n",
    "\n",
    "\n",
    "\n",
    "    def returnCost(self):\n",
    "        minCost : float = inf\n",
    "        for i in range(self.n):\n",
    "            print(\"Path\", end='')\n",
    "\n",
    "            cost = self.nn(copy.deepcopy(matrix),i, i)\n",
    "\n",
    "            print(f\"-> {i+1}    ::   Cost: {cost}\")\n",
    "\n",
    "            if cost and cost<minCost:\n",
    "                minCost=cost\n",
    "            \n",
    "        return minCost\n",
    "\n",
    "\n",
    "\n",
    "    def nn(self, matrix, current:int=0, source:int=0)->int:\n",
    "\n",
    "        if self.n<2:\n",
    "            return 0\n",
    "\n",
    "        print(f\" -> {current+1}\", end='')\n",
    "\n",
    "        for i in range(self.n):\n",
    "            matrix[i][current] = inf\n",
    "\n",
    "        currMin, currMinPos = inf, 0\n",
    "\n",
    "        for j in range(self.n):\n",
    "            if currMin > matrix[current][j]:\n",
    "                currMin = matrix[current][j]\n",
    "                currMinPos = j\n",
    "        \n",
    "        if currMin == inf:\n",
    "            return self.matrix[current][source]\n",
    "        \n",
    "        matrix[current][currMinPos] = matrix[currMinPos][current] = inf\n",
    "\n",
    "        return currMin + self.nn(matrix, currMinPos, source)        \n"
   ]
  },
  {
   "cell_type": "code",
   "execution_count": 24,
   "metadata": {},
   "outputs": [
    {
     "name": "stdout",
     "output_type": "stream",
     "text": [
      "[[inf, 10, 10, 20], [20, inf, 30, 34], [23, 56, inf, 34], [14, 56, 23, inf]]\n",
      "Path -> 1 -> 2 -> 4 -> 3-> 1    ::   Cost: inf\n",
      "Path -> 2 -> 1 -> 3 -> 4-> 2    ::   Cost: 78\n",
      "Path -> 3 -> 1 -> 2 -> 4-> 3    ::   Cost: 73\n",
      "Path -> 4 -> 1 -> 2 -> 3-> 4    ::   Cost: inf\n",
      "73\n"
     ]
    }
   ],
   "source": [
    "if __name__ == '__main__':\n",
    "    matrix = [\n",
    "        [inf, 10,  15,  20],\n",
    "        [10,  inf, 35,  25],\n",
    "        [15,  35,  inf, 30],\n",
    "        [20,  25,  30,  inf]\n",
    "    ]\n",
    "\n",
    "    city = 0\n",
    "    tsp = TSP()\n",
    "    tsp.input()\n",
    "    print(tsp.matrix)\n",
    "    print(tsp.returnCost())\n",
    "\n"
   ]
  }
 ],
 "metadata": {
  "interpreter": {
   "hash": "329db76e4f174cfbc294d6b513f9f2668b4faa200280c09f28981c62062b342c"
  },
  "kernelspec": {
   "display_name": "Python 3.10.3 64-bit",
   "language": "python",
   "name": "python3"
  },
  "language_info": {
   "codemirror_mode": {
    "name": "ipython",
    "version": 3
   },
   "file_extension": ".py",
   "mimetype": "text/x-python",
   "name": "python",
   "nbconvert_exporter": "python",
   "pygments_lexer": "ipython3",
   "version": "3.10.3"
  },
  "orig_nbformat": 4
 },
 "nbformat": 4,
 "nbformat_minor": 2
}
