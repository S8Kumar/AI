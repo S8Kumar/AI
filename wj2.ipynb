{
 "cells": [
  {
   "cell_type": "code",
   "execution_count": 9,
   "metadata": {},
   "outputs": [
    {
     "name": "stdout",
     "output_type": "stream",
     "text": [
      "Steps: \n",
      "0 0\n",
      "4 0\n",
      "4 3\n",
      "0 3\n",
      "3 0\n",
      "3 3\n",
      "4 2\n",
      "0 2\n",
      "2 0\n"
     ]
    },
    {
     "data": {
      "text/plain": [
       "True"
      ]
     },
     "execution_count": 9,
     "metadata": {},
     "output_type": "execute_result"
    }
   ],
   "source": [
    "from collections import defaultdict\n",
    "\n",
    "jug1, jug2, aim = 4, 3, 2\n",
    "\n",
    "visited = defaultdict(lambda: False)\n",
    "\n",
    "\n",
    "def waterJugSolver(amt1, amt2):\n",
    "\n",
    "\tif (amt1 == aim and amt2 == 0):\n",
    "\t\tprint(amt1, amt2)\n",
    "\t\treturn True\n",
    "\t\n",
    "\tif visited[(amt1, amt2)] == False:\n",
    "\t\tprint(amt1, amt2)\n",
    "\t\tvisited[(amt1, amt2)] = True\n",
    "\t\n",
    "\t\treturn (waterJugSolver(0, amt2) or\n",
    "\t\t\t\twaterJugSolver(amt1, 0) or\n",
    "\t\t\t\twaterJugSolver(jug1, amt2) or\n",
    "\t\t\t\twaterJugSolver(amt1, jug2) or\n",
    "\t\t\t\twaterJugSolver(amt1 + min(amt2, (jug1-amt1)), amt2 - min(amt2, (jug1-amt1))) or\n",
    "\t\t\t\twaterJugSolver(amt1 - min(amt1, (jug2-amt2)), amt2 + min(amt1, (jug2-amt2))))\n",
    "\telse:\n",
    "\t\treturn False\n",
    "\n",
    "print(\"Steps: \")\n",
    "\n",
    "waterJugSolver(0, 0)"
   ]
  },
  {
   "cell_type": "code",
   "execution_count": 1,
   "metadata": {},
   "outputs": [],
   "source": [
    "from collections import defaultdict"
   ]
  },
  {
   "cell_type": "code",
   "execution_count": 2,
   "metadata": {},
   "outputs": [],
   "source": [
    "jug1, jug2, aim = 4,3,2\n",
    "\n",
    "visited = defaultdict(lambda: False)"
   ]
  },
  {
   "cell_type": "code",
   "execution_count": 7,
   "metadata": {},
   "outputs": [],
   "source": [
    "def waterJug(amt1, amt2):\n",
    "    if amt1 == aim & amt2 == 0:\n",
    "        print(amt1, amt2)\n",
    "        return True\n",
    "    \n",
    "    if visited[(amt1, amt2)] == False:\n",
    "        print(amt1, amt2)\n",
    "\n",
    "        visited[(amt1, amt2)] = True\n",
    "\n",
    "        return (waterJug(0, amt2) or waterJug(amt1, 0) \n",
    "           or waterJug(jug1, amt2) or waterJug(amt1, jug2)\n",
    "           or waterJug(amt1 + min(amt2, jug1-amt1), amt2 - min(amt2, jug1-amt1))\n",
    "           or waterJug(amt1 - min(amt1, jug2-amt2), amt2 + min(amt1, jug2-amt2))\n",
    "        )\n",
    "    else:\n",
    "        return False"
   ]
  },
  {
   "cell_type": "code",
   "execution_count": 8,
   "metadata": {},
   "outputs": [
    {
     "name": "stdout",
     "output_type": "stream",
     "text": [
      "Steps: \n",
      "4 3\n",
      "0 3\n",
      "0 0\n"
     ]
    },
    {
     "data": {
      "text/plain": [
       "True"
      ]
     },
     "execution_count": 8,
     "metadata": {},
     "output_type": "execute_result"
    }
   ],
   "source": [
    "print(\"Steps: \")\n",
    "waterJug(4,3)"
   ]
  }
 ],
 "metadata": {
  "interpreter": {
   "hash": "329db76e4f174cfbc294d6b513f9f2668b4faa200280c09f28981c62062b342c"
  },
  "kernelspec": {
   "display_name": "Python 3.10.3 64-bit",
   "language": "python",
   "name": "python3"
  },
  "language_info": {
   "codemirror_mode": {
    "name": "ipython",
    "version": 3
   },
   "file_extension": ".py",
   "mimetype": "text/x-python",
   "name": "python",
   "nbconvert_exporter": "python",
   "pygments_lexer": "ipython3",
   "version": "3.10.3"
  },
  "orig_nbformat": 4
 },
 "nbformat": 4,
 "nbformat_minor": 2
}
