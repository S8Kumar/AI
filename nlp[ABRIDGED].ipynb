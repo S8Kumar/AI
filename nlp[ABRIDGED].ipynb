{
 "cells": [
  {
   "cell_type": "code",
   "execution_count": 1,
   "metadata": {},
   "outputs": [],
   "source": [
    "import pandas as pd\n",
    "import nltk\n",
    "from nltk.corpus import stopwords\n",
    "from nltk.tokenize import word_tokenize\n",
    "from nltk.stem.snowball import SnowballStemmer\n",
    "from nltk.stem import WordNetLemmatizer\n",
    "from nltk import pos_tag"
   ]
  },
  {
   "cell_type": "code",
   "execution_count": 3,
   "metadata": {},
   "outputs": [],
   "source": [
    "text = \"\"\"\"Jurassic Period, second of three periods of the Mesozoic Era. Extending from 201.3 million to 145 million years ago, it immediately followed the Triassic Period (251.9 million to 201.3 million years ago) and was succeeded by the Cretaceous Period (145 million to 66 million years ago). The Morrison Formation of the United States and the Solnhofen Limestone of Germany, both famous for their exceptionally well-preserved fossils, are geologic features that were formed during Jurassic times.\n",
    "\n",
    "The Jurassic was a time of significant global change in continental configurations, oceanographic patterns, and biological systems. During this period the supercontinent Pangea split apart, allowing for the eventual development of what are now the central Atlantic Ocean and the Gulf of Mexico. Heightened plate tectonic movement led to significant volcanic activity, mountain-building events, and attachment of islands onto continents. Shallow seaways covered many continents, and marine and marginal marine sediments were deposited, preserving a diverse set of fossils. Rock strata laid down during the Jurassic Period have yielded gold, coal, petroleum, and other natural resources.\n",
    "\"\"\""
   ]
  },
  {
   "cell_type": "code",
   "execution_count": 4,
   "metadata": {},
   "outputs": [
    {
     "data": {
      "text/plain": [
       "million        6\n",
       "period         5\n",
       "jurassic       4\n",
       "years          3\n",
       "ago            3\n",
       "marine         2\n",
       "significant    2\n",
       "the            2\n",
       "fossils        2\n",
       "continents     2\n",
       "dtype: int64"
      ]
     },
     "execution_count": 4,
     "metadata": {},
     "output_type": "execute_result"
    }
   ],
   "source": [
    "words  = word_tokenize(text)\n",
    "words = [word for word in words if word.isalnum()]\n",
    "\n",
    "stop_words = set(stopwords.words('english'))\n",
    "filt = [word.lower() for word in words if word not in stop_words]\n",
    "\n",
    "snow = SnowballStemmer(language='english')\n",
    "stemm = [snow.stem(word) for word in filt]\n",
    "\n",
    "lemma = WordNetLemmatizer()\n",
    "lemm = [lemma.lemmatize(word) for word in filt]\n",
    "\n",
    "tag = pos_tag(filt)\n",
    "\n",
    "filtSeries = pd.Series(filt)\n",
    "filtSeries.value_counts()[:10]"
   ]
  },
  {
   "cell_type": "code",
   "execution_count": 6,
   "metadata": {},
   "outputs": [
    {
     "name": "stdout",
     "output_type": "stream",
     "text": [
      "['Jurassic', 'Period', 'second', 'of', 'three', 'periods', 'of', 'the', 'Mesozoic', 'Era', 'Extending', 'from', 'million', 'to', '145', 'million', 'years', 'ago', 'it', 'immediately', 'followed', 'the', 'Triassic', 'Period', 'million', 'to', 'million', 'years', 'ago', 'and', 'was', 'succeeded', 'by', 'the', 'Cretaceous', 'Period', '145', 'million', 'to', '66', 'million', 'years', 'ago', 'The', 'Morrison', 'Formation', 'of', 'the', 'United', 'States', 'and', 'the', 'Solnhofen', 'Limestone', 'of', 'Germany', 'both', 'famous', 'for', 'their', 'exceptionally', 'fossils', 'are', 'geologic', 'features', 'that', 'were', 'formed', 'during', 'Jurassic', 'times', 'The', 'Jurassic', 'was', 'a', 'time', 'of', 'significant', 'global', 'change', 'in', 'continental', 'configurations', 'oceanographic', 'patterns', 'and', 'biological', 'systems', 'During', 'this', 'period', 'the', 'supercontinent', 'Pangea', 'split', 'apart', 'allowing', 'for', 'the', 'eventual', 'development', 'of', 'what', 'are', 'now', 'the', 'central', 'Atlantic', 'Ocean', 'and', 'the', 'Gulf', 'of', 'Mexico', 'Heightened', 'plate', 'tectonic', 'movement', 'led', 'to', 'significant', 'volcanic', 'activity', 'events', 'and', 'attachment', 'of', 'islands', 'onto', 'continents', 'Shallow', 'seaways', 'covered', 'many', 'continents', 'and', 'marine', 'and', 'marginal', 'marine', 'sediments', 'were', 'deposited', 'preserving', 'a', 'diverse', 'set', 'of', 'fossils', 'Rock', 'strata', 'laid', 'down', 'during', 'the', 'Jurassic', 'Period', 'have', 'yielded', 'gold', 'coal', 'petroleum', 'and', 'other', 'natural', 'resources']\n",
      "\n",
      "\n",
      "['jurassic', 'period', 'second', 'three', 'periods', 'mesozoic', 'era', 'extending', 'million', '145', 'million', 'years', 'ago', 'immediately', 'followed', 'triassic', 'period', 'million', 'million', 'years', 'ago', 'succeeded', 'cretaceous', 'period', '145', 'million', '66', 'million', 'years', 'ago', 'the', 'morrison', 'formation', 'united', 'states', 'solnhofen', 'limestone', 'germany', 'famous', 'exceptionally', 'fossils', 'geologic', 'features', 'formed', 'jurassic', 'times', 'the', 'jurassic', 'time', 'significant', 'global', 'change', 'continental', 'configurations', 'oceanographic', 'patterns', 'biological', 'systems', 'during', 'period', 'supercontinent', 'pangea', 'split', 'apart', 'allowing', 'eventual', 'development', 'central', 'atlantic', 'ocean', 'gulf', 'mexico', 'heightened', 'plate', 'tectonic', 'movement', 'led', 'significant', 'volcanic', 'activity', 'events', 'attachment', 'islands', 'onto', 'continents', 'shallow', 'seaways', 'covered', 'many', 'continents', 'marine', 'marginal', 'marine', 'sediments', 'deposited', 'preserving', 'diverse', 'set', 'fossils', 'rock', 'strata', 'laid', 'jurassic', 'period', 'yielded', 'gold', 'coal', 'petroleum', 'natural', 'resources']\n",
      "\n",
      "\n",
      "['jurass', 'period', 'second', 'three', 'period', 'mesozo', 'era', 'extend', 'million', '145', 'million', 'year', 'ago', 'immedi', 'follow', 'triassic', 'period', 'million', 'million', 'year', 'ago', 'succeed', 'cretac', 'period', '145', 'million', '66', 'million', 'year', 'ago', 'the', 'morrison', 'format', 'unit', 'state', 'solnhofen', 'limeston', 'germani', 'famous', 'except', 'fossil', 'geolog', 'featur', 'form', 'jurass', 'time', 'the', 'jurass', 'time', 'signific', 'global', 'chang', 'continent', 'configur', 'oceanograph', 'pattern', 'biolog', 'system', 'dure', 'period', 'supercontin', 'pangea', 'split', 'apart', 'allow', 'eventu', 'develop', 'central', 'atlant', 'ocean', 'gulf', 'mexico', 'heighten', 'plate', 'tecton', 'movement', 'led', 'signific', 'volcan', 'activ', 'event', 'attach', 'island', 'onto', 'contin', 'shallow', 'seaway', 'cover', 'mani', 'contin', 'marin', 'margin', 'marin', 'sediment', 'deposit', 'preserv', 'divers', 'set', 'fossil', 'rock', 'strata', 'laid', 'jurass', 'period', 'yield', 'gold', 'coal', 'petroleum', 'natur', 'resourc']\n",
      "\n",
      "\n",
      "['jurassic', 'period', 'second', 'three', 'period', 'mesozoic', 'era', 'extending', 'million', '145', 'million', 'year', 'ago', 'immediately', 'followed', 'triassic', 'period', 'million', 'million', 'year', 'ago', 'succeeded', 'cretaceous', 'period', '145', 'million', '66', 'million', 'year', 'ago', 'the', 'morrison', 'formation', 'united', 'state', 'solnhofen', 'limestone', 'germany', 'famous', 'exceptionally', 'fossil', 'geologic', 'feature', 'formed', 'jurassic', 'time', 'the', 'jurassic', 'time', 'significant', 'global', 'change', 'continental', 'configuration', 'oceanographic', 'pattern', 'biological', 'system', 'during', 'period', 'supercontinent', 'pangea', 'split', 'apart', 'allowing', 'eventual', 'development', 'central', 'atlantic', 'ocean', 'gulf', 'mexico', 'heightened', 'plate', 'tectonic', 'movement', 'led', 'significant', 'volcanic', 'activity', 'event', 'attachment', 'island', 'onto', 'continent', 'shallow', 'seaway', 'covered', 'many', 'continent', 'marine', 'marginal', 'marine', 'sediment', 'deposited', 'preserving', 'diverse', 'set', 'fossil', 'rock', 'stratum', 'laid', 'jurassic', 'period', 'yielded', 'gold', 'coal', 'petroleum', 'natural', 'resource']\n",
      "\n",
      "\n",
      "[('jurassic', 'JJ'), ('period', 'NN'), ('second', 'JJ'), ('three', 'CD'), ('periods', 'NNS'), ('mesozoic', 'VBP'), ('era', 'NN'), ('extending', 'VBG'), ('million', 'CD'), ('145', 'CD'), ('million', 'CD'), ('years', 'NNS'), ('ago', 'RB'), ('immediately', 'RB'), ('followed', 'VBD'), ('triassic', 'JJ'), ('period', 'NN'), ('million', 'CD'), ('million', 'CD'), ('years', 'NNS'), ('ago', 'RB'), ('succeeded', 'VBD'), ('cretaceous', 'JJ'), ('period', 'NN'), ('145', 'CD'), ('million', 'CD'), ('66', 'CD'), ('million', 'CD'), ('years', 'NNS'), ('ago', 'IN'), ('the', 'DT'), ('morrison', 'NN'), ('formation', 'NN'), ('united', 'JJ'), ('states', 'NNS'), ('solnhofen', 'VBP'), ('limestone', 'CD'), ('germany', 'NN'), ('famous', 'JJ'), ('exceptionally', 'RB'), ('fossils', 'VBZ'), ('geologic', 'JJ'), ('features', 'NNS'), ('formed', 'VBN'), ('jurassic', 'JJ'), ('times', 'NNS'), ('the', 'DT'), ('jurassic', 'JJ'), ('time', 'NN'), ('significant', 'JJ'), ('global', 'JJ'), ('change', 'NN'), ('continental', 'JJ'), ('configurations', 'NNS'), ('oceanographic', 'JJ'), ('patterns', 'JJ'), ('biological', 'JJ'), ('systems', 'NNS'), ('during', 'IN'), ('period', 'NN'), ('supercontinent', 'NN'), ('pangea', 'NN'), ('split', 'VBD'), ('apart', 'RB'), ('allowing', 'VBG'), ('eventual', 'JJ'), ('development', 'NN'), ('central', 'JJ'), ('atlantic', 'JJ'), ('ocean', 'NN'), ('gulf', 'NN'), ('mexico', 'NN'), ('heightened', 'VBD'), ('plate', 'JJ'), ('tectonic', 'JJ'), ('movement', 'NN'), ('led', 'VBD'), ('significant', 'JJ'), ('volcanic', 'JJ'), ('activity', 'NN'), ('events', 'NNS'), ('attachment', 'JJ'), ('islands', 'NNS'), ('onto', 'IN'), ('continents', 'NNS'), ('shallow', 'JJ'), ('seaways', 'NNS'), ('covered', 'VBD'), ('many', 'JJ'), ('continents', 'NNS'), ('marine', 'VBP'), ('marginal', 'JJ'), ('marine', 'NN'), ('sediments', 'NNS'), ('deposited', 'VBD'), ('preserving', 'VBG'), ('diverse', 'NN'), ('set', 'VBN'), ('fossils', 'NNS'), ('rock', 'NN'), ('strata', 'NN'), ('laid', 'VBD'), ('jurassic', 'JJ'), ('period', 'NN'), ('yielded', 'VBD'), ('gold', 'JJ'), ('coal', 'NN'), ('petroleum', 'NN'), ('natural', 'JJ'), ('resources', 'NNS')]\n"
     ]
    }
   ],
   "source": [
    "print(words)\n",
    "print(\"\\n\")\n",
    "print(filt)\n",
    "print(\"\\n\")\n",
    "print(stemm)\n",
    "print(\"\\n\")\n",
    "print(lemm)\n",
    "print(\"\\n\")\n",
    "print(tag)"
   ]
  }
 ],
 "metadata": {
  "interpreter": {
   "hash": "329db76e4f174cfbc294d6b513f9f2668b4faa200280c09f28981c62062b342c"
  },
  "kernelspec": {
   "display_name": "Python 3.10.3 64-bit",
   "language": "python",
   "name": "python3"
  },
  "language_info": {
   "codemirror_mode": {
    "name": "ipython",
    "version": 3
   },
   "file_extension": ".py",
   "mimetype": "text/x-python",
   "name": "python",
   "nbconvert_exporter": "python",
   "pygments_lexer": "ipython3",
   "version": "3.10.3"
  },
  "orig_nbformat": 4
 },
 "nbformat": 4,
 "nbformat_minor": 2
}
