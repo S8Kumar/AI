{
 "cells": [
  {
   "cell_type": "code",
   "execution_count": 1,
   "metadata": {},
   "outputs": [],
   "source": [
    "x =0 #4gj initially\n",
    "y=0 #3gj initially\n",
    "\n",
    "m=4 #total cap of 4 gall jug\n",
    "n=3  #total cap of 3 gall jug"
   ]
  },
  {
   "cell_type": "code",
   "execution_count": 2,
   "metadata": {},
   "outputs": [
    {
     "name": "stdout",
     "output_type": "stream",
     "text": [
      "Initial state: (0,0)\n",
      "Goal state: (2,0)\n",
      "Capacity: (4,3)\n"
     ]
    }
   ],
   "source": [
    "print(f\"Initial state: ({x},{y})\")\n",
    "print(f\"Goal state: (2,{y})\")\n",
    "print(f\"Capacity: ({m},{n})\")"
   ]
  },
  {
   "cell_type": "code",
   "execution_count": 3,
   "metadata": {},
   "outputs": [
    {
     "name": "stdout",
     "output_type": "stream",
     "text": [
      "Production rules for Water Jug Problem:\n",
      "\n",
      "1. \t(4,Y) \t\tFill 4 gallon jug\n",
      "2. \t(X,3) \t\tFill 3 gallon jug\n",
      "3. \t(X-d,Y) \tremove some water from 4 gall jug\n",
      "4. \t(X,Y-d) \tremove some water from 3 gall jug\n",
      "5. \t(0,Y) \t\tempty 4 gall jug\n",
      "6. \t(X,0) \t\tempty 3 gall jug\n",
      "7. \t(4,Y-(4-X)) \tpour water from 3 gj into 4gj till full\n",
      "8. \t(X-(3-Y),3) \tpour water from 4 gj into 3gj till full\n",
      "9. \t(X+Y,0) \tpour all water from 3 gj into 4 gj\n",
      "10. \t(0,X+Y) \tpour all water from 4 gj into 3 gj\n",
      "11. \t(2,0) \t\tpour 2 gall from 3gj into 4gj\n",
      "12. \t(0,0) \t\tpour 2 gall from 4gj onto ground\n"
     ]
    }
   ],
   "source": [
    "print(\"Production rules for Water Jug Problem:\\n\")\n",
    "print(\"1. \\t(4,Y) \\t\\tFill 4 gallon jug\")\n",
    "print(\"2. \\t(X,3) \\t\\tFill 3 gallon jug\")\n",
    "print(\"3. \\t(X-d,Y) \\tremove some water from 4 gall jug\")\n",
    "print(\"4. \\t(X,Y-d) \\tremove some water from 3 gall jug\")\n",
    "print(\"5. \\t(0,Y) \\t\\tempty 4 gall jug\")\n",
    "print(\"6. \\t(X,0) \\t\\tempty 3 gall jug\")\n",
    "print(\"7. \\t(4,Y-(4-X)) \\tpour water from 3 gj into 4gj till full\")\n",
    "print(\"8. \\t(X-(3-Y),3) \\tpour water from 4 gj into 3gj till full\")\n",
    "print(\"9. \\t(X+Y,0) \\tpour all water from 3 gj into 4 gj\")\n",
    "print(\"10. \\t(0,X+Y) \\tpour all water from 4 gj into 3 gj\")\n",
    "print(\"11. \\t(2,0) \\t\\tpour 2 gall from 3gj into 4gj\")\n",
    "print(\"12. \\t(0,0) \\t\\tpour 2 gall from 4gj onto ground\")\n"
   ]
  },
  {
   "cell_type": "code",
   "execution_count": 4,
   "metadata": {},
   "outputs": [
    {
     "name": "stdout",
     "output_type": "stream",
     "text": [
      "4 Gallon Jug \t3 Gallon Jug \tProduction rule\n",
      "0 \t\t 3 \t\t 2\n",
      "3 \t\t 0 \t\t 9\n",
      "3 \t\t 3 \t\t 2\n",
      "4 \t\t 2 \t\t 7\n",
      "0 \t\t 2 \t\t 5\n",
      "2 \t\t 0 \t\t 9\n"
     ]
    }
   ],
   "source": [
    "print(\"4 Gallon Jug \\t3 Gallon Jug \\tProduction rule\")\n",
    "\n",
    "while x!=2:\n",
    "    r = int(input(\"Enter production rule\"))\n",
    "    \n",
    "    if r==1:\n",
    "        x==m\n",
    "    if r==2:\n",
    "        y=n\n",
    "\n",
    "    if r==3:\n",
    "        d = int(input(\"enter amt to remove\"))\n",
    "        x=x-d\n",
    "    if r==4:\n",
    "        d = int(input(\"enter amt to remove\"))\n",
    "        y=y-d\n",
    "\n",
    "    if r==5:\n",
    "        x=0\n",
    "    if r==6:\n",
    "        y=0\n",
    "    \n",
    "    if r==7:\n",
    "        temp = m-x\n",
    "        x=m\n",
    "        y=y-temp\n",
    "    if r==8:\n",
    "        temp = n-y\n",
    "        y=n\n",
    "        x=x-temp\n",
    "    \n",
    "    if r==9:\n",
    "        x += y\n",
    "        y=0\n",
    "    if r==10:\n",
    "        y+=x\n",
    "        x=0\n",
    "\n",
    "    if r==11:\n",
    "        x=2\n",
    "        y=0\n",
    "    if r==12:\n",
    "        x=0\n",
    "        y=0\n",
    "\n",
    "    print(x, \"\\t\\t\", y, \"\\t\\t\", r)\n",
    "        \n"
   ]
  }
 ],
 "metadata": {
  "interpreter": {
   "hash": "329db76e4f174cfbc294d6b513f9f2668b4faa200280c09f28981c62062b342c"
  },
  "kernelspec": {
   "display_name": "Python 3.10.3 64-bit",
   "language": "python",
   "name": "python3"
  },
  "language_info": {
   "codemirror_mode": {
    "name": "ipython",
    "version": 3
   },
   "file_extension": ".py",
   "mimetype": "text/x-python",
   "name": "python",
   "nbconvert_exporter": "python",
   "pygments_lexer": "ipython3",
   "version": "3.10.3"
  },
  "orig_nbformat": 4
 },
 "nbformat": 4,
 "nbformat_minor": 2
}
