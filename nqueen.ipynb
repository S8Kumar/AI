{
 "cells": [
  {
   "cell_type": "code",
   "execution_count": 1,
   "metadata": {},
   "outputs": [],
   "source": [
    "import random\n",
    "from array import array\n",
    "import numpy as np"
   ]
  },
  {
   "cell_type": "code",
   "execution_count": 2,
   "metadata": {},
   "outputs": [],
   "source": [
    "board = [[0,0,0,0,0,0,0,0],\n",
    "    [0,0,0,0,0,0,0,0],\n",
    "    [0,0,0,0,0,0,0,0],\n",
    "    [0,0,0,0,0,0,0,0],\n",
    "    [0,0,0,0,0,0,0,0],\n",
    "    [0,0,0,0,0,0,0,0],\n",
    "    [0,0,0,0,0,0,0,0],\n",
    "    [0,0,0,0,0,0,0,0]]\n",
    "\n",
    "neighbour = [[0,0,0,0,0,0,0,0],\n",
    "    [0,0,0,0,0,0,0,0],\n",
    "    [0,0,0,0,0,0,0,0],\n",
    "    [0,0,0,0,0,0,0,0],\n",
    "    [0,0,0,0,0,0,0,0],\n",
    "    [0,0,0,0,0,0,0,0],\n",
    "    [0,0,0,0,0,0,0,0],\n",
    "    [0,0,0,0,0,0,0,0]]\n",
    "    \n",
    "queens = [0,0,0,0,0,0,0,0]\n"
   ]
  },
  {
   "cell_type": "code",
   "execution_count": 3,
   "metadata": {},
   "outputs": [],
   "source": [
    "def collision_count(row, column):\n",
    "    coll = 0\n",
    "   \n",
    "    for j in range(8):\n",
    "        if j == row:\n",
    "            continue\n",
    "        if board[column][j] == 1 :\n",
    "            coll += 1\n",
    "    \n",
    "    while(column < 7 and row < 7):\n",
    "        row += 1\n",
    "        column +=1\n",
    "        if board[column][row] == 1:\n",
    "            coll += 1\n",
    "  \n",
    "    while(column > 0 and row > 0):\n",
    "        row -= 1\n",
    "        column -=1\n",
    "        if board[column][row] == 1:\n",
    "            coll += 1\n",
    "   \n",
    "    while(column > 0 and row < 7):\n",
    "        row += 1\n",
    "        column -=1\n",
    "        if board[column][row] == 1:\n",
    "            coll += 1\n",
    " \n",
    "    while(column < 7 and row > 0):\n",
    "        row -= 1\n",
    "        column +=1\n",
    "        if board[column][row] == 1:\n",
    "            coll += 1\n",
    "                      \n",
    "    return coll "
   ]
  },
  {
   "cell_type": "code",
   "execution_count": 4,
   "metadata": {},
   "outputs": [],
   "source": [
    "def totalcoll():\n",
    "    totcoll = 0\n",
    "    for i in range(8):\n",
    "        totcoll += collision_count(i,queens[i])\n",
    "    return totcoll"
   ]
  },
  {
   "cell_type": "code",
   "execution_count": 5,
   "metadata": {},
   "outputs": [],
   "source": [
    "while True:\n",
    " \n",
    "    for i in range(8):\n",
    "        queens[i] = random.randrange(0,8)\n",
    "        board[i][queens[i]] = 1\n",
    "\n",
    "    totalcollision =  totalcoll()\n",
    "   \n",
    "    while True:\n",
    "        for i in range(8):\n",
    "            oldqueen = queens[i]\n",
    "        for j in range(8):\n",
    "            queens[i] = j\n",
    "            neighbour[i][j] = totalcoll()\n",
    "        queens[i] = oldqueen\n",
    "    \n",
    "        min = neighbour[0][0]\n",
    "        minqueencol = 0\n",
    "        minqueenrow = 0\n",
    "        for i in range(8):\n",
    "            for j in range(8):\n",
    "                if(neighbour[i][j]<min):\n",
    "                    min = neighbour[i][j]\n",
    "                    minqueenrow = j\n",
    "                    minqueencol = i\n",
    "\n",
    "        if min<totalcollision:\n",
    "            totalcollision = min\n",
    "            queens[minqueencol] = minqueenrow\n",
    "\n",
    "        else:\n",
    "            break\n",
    "    \n",
    "    if totalcollision == 0:\n",
    "        break"
   ]
  },
  {
   "cell_type": "code",
   "execution_count": 6,
   "metadata": {},
   "outputs": [
    {
     "data": {
      "text/plain": [
       "array([[0, 0, 0, 0, 0, 1, 0, 0],\n",
       "       [1, 0, 0, 0, 0, 0, 0, 0],\n",
       "       [0, 1, 0, 0, 0, 0, 0, 0],\n",
       "       [0, 0, 0, 0, 0, 1, 0, 0],\n",
       "       [0, 0, 0, 0, 1, 0, 0, 0],\n",
       "       [0, 1, 0, 0, 0, 0, 0, 0],\n",
       "       [0, 0, 0, 0, 0, 1, 0, 0],\n",
       "       [0, 0, 1, 0, 0, 0, 0, 0]])"
      ]
     },
     "execution_count": 6,
     "metadata": {},
     "output_type": "execute_result"
    }
   ],
   "source": [
    "b = []\n",
    "for i in range(8):\n",
    "    for j in range(8):\n",
    "        #print(board[i][j], end='')\n",
    "       b.append(board[i][j])\n",
    "\n",
    "np.reshape(b, (8,8))"
   ]
  }
 ],
 "metadata": {
  "interpreter": {
   "hash": "329db76e4f174cfbc294d6b513f9f2668b4faa200280c09f28981c62062b342c"
  },
  "kernelspec": {
   "display_name": "Python 3.10.3 64-bit",
   "language": "python",
   "name": "python3"
  },
  "language_info": {
   "codemirror_mode": {
    "name": "ipython",
    "version": 3
   },
   "file_extension": ".py",
   "mimetype": "text/x-python",
   "name": "python",
   "nbconvert_exporter": "python",
   "pygments_lexer": "ipython3",
   "version": "3.10.3"
  },
  "orig_nbformat": 4
 },
 "nbformat": 4,
 "nbformat_minor": 2
}
